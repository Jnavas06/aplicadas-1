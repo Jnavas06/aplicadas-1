{
  "nbformat": 4,
  "nbformat_minor": 0,
  "metadata": {
    "colab": {
      "provenance": [],
      "include_colab_link": true
    },
    "kernelspec": {
      "name": "python3",
      "display_name": "Python 3"
    },
    "language_info": {
      "name": "python"
    }
  },
  "cells": [
    {
      "cell_type": "markdown",
      "metadata": {
        "id": "view-in-github",
        "colab_type": "text"
      },
      "source": [
        "<a href=\"https://colab.research.google.com/github/Jnavas06/aplicadas-1/blob/main/Navas_Juan_Jose.ipynb\" target=\"_parent\"><img src=\"https://colab.research.google.com/assets/colab-badge.svg\" alt=\"Open In Colab\"/></a>"
      ]
    },
    {
      "cell_type": "markdown",
      "source": [
        "# Autobiografia\n",
        "\n",
        "Mi nombre es Juan José Navas, nací el 27 de junio en la ciudad de Cali. Desde pequeño, el deporte ha sido una parte importante de mi vida. A los 3 años, comencé a practicar natación, pero a los 5 descubrí mi pasión por el fútbol y decidí cambiar de disciplina. A lo largo de mi infancia y adolescencia, el fútbol me enseñó la importancia del trabajo en equipo, la disciplina y la perseverancia.\n",
        "\n",
        "Recientemente, me gradué del colegio Anglo Hispano, una etapa llena de aprendizajes y momentos inolvidables junto a mis compañeros. Durante mis años escolares, desarrollé un gran interés por la lógica, el análisis y la resolución de problemas, lo que me llevó a elegir la ingeniería industrial como carrera profesional.\n",
        "\n",
        "Actualmente, estudio en la Universidad Icesi, donde curso mi segundo semestre. Además de mis estudios, sigo practicando fútbol en la universidad, lo que me permite mantenerme activo y seguir disfrutando de mi deporte favorito. A lo largo de este tiempo, he aprendido a administrar mejor mi tiempo y a organizar mis estudios para aprovechar al máximo cada oportunidad de aprendizaje. Estoy entusiasmado por los retos y oportunidades que me esperan en esta nueva etapa de mi vida.\n",
        "\n",
        "<img src=\"https://th.bing.com/th/id/R.fdac14707a893b5bad614a8528c93156?rik=RaoF0emCMEXl%2fw&pid=ImgRaw&r=0\">\n",
        "\n",
        ">Quickie - dei v\n",
        ">>Velda- bad bunny\n",
        ">>>Yoko - hades\n",
        ">>>>El no se va a enterar - arcángel\n",
        ">>>>>ETA RMX - Roa\n",
        "\n",
        "| Asignatura            | Razon                                                                                                                           |\n",
        "|-----------------------|---------------------------------------------------------------------------------------------------------------------------------|\n",
        "| Pensamiento sistémico | Me parece una clase didáctica ya que en mi vida había jugado para poder ganar un curso.                                         |\n",
        "| Aplicadas I           | me gustaría aprender mucho sobre la programación ya que me parece un tema importante que todas las personas deberían aprender   |\n",
        "| Redes Sociales        | Me gusta porque las redes sociales en la vida cotidiana son algo muy común, y me gustaría aprender a generar ingresos con ello. |\n"
      ],
      "metadata": {
        "id": "3BQSD5VnMkN6"
      }
    }
  ]
}